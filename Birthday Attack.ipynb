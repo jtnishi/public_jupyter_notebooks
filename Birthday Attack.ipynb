{
 "cells": [
  {
   "cell_type": "markdown",
   "id": "8c9b9a4c",
   "metadata": {},
   "source": [
    "# The Birthday Attack, In Graphs"
   ]
  },
  {
   "cell_type": "markdown",
   "id": "39e8a1bc",
   "metadata": {},
   "source": [
    "So, out of my own curiosity from a problem I saw online, trying to figure out what are the odds that people have randomly generated the same map in Minecraft, my mind went back to the birthday attack problem, because I had managed to get an answer of about 1 in 4 if all the active Minecraft players have generated about 20 maps (closer to about 23 maps for 141M players in the 64-bit space). This kind of impressed me, because knowing that the 64-bit space is about 10^19, the fact that we'd land in 1 in 4 is surprising with 1.4 * 10^8 players.  Amazingly, it was surprisingly both very high and very low to me. With birthday attack stuff, I'm used to either seeing situations be close to 1 in 10^18 (ie, basically never), or very high, like >95%.  25% is, surprisingly, weird.\n",
    "\n",
    "So I want to graph it.  I want to see how the probability of the birthday attack looks in graphs."
   ]
  },
  {
   "cell_type": "markdown",
   "id": "29ef7dd0",
   "metadata": {},
   "source": [
    "## The Birthday Attack?\n",
    "\n",
    "For those not familiar with the idea of a birthday attack, you're best off reading a couple of Wikipedia articles about it, namely the [Birthday Problem](https://en.wikipedia.org/wiki/Birthday_problem) and the [Birthday Attack](https://en.wikipedia.org/wiki/Birthday_attack).  The name stems from the idea that in a room of 23 people, the odds that at least two people will share the same birthday on the Gregorian Calendar of 365 days is greater than 50%.\n",
    "\n",
    "You can [approximate the probability as follows](https://en.wikipedia.org/wiki/Birthday_problem#Approximations):\n",
    "\n",
    "$\n",
    "\\large\n",
    "\\begin{align*}\n",
    "    p(n, d) &\\approx 1 - e^{-\\frac{n(n-1)}{2d}}  \\\\\n",
    "    &\\approx 1 - e^{-\\frac{n^2}{2d}}\n",
    "\\end{align*}\n",
    "$\n",
    "\n",
    "In code, the two approximations are written below."
   ]
  },
  {
   "cell_type": "code",
   "execution_count": 1,
   "id": "f36ae38d",
   "metadata": {},
   "outputs": [],
   "source": [
    "import math\n",
    "\n",
    "def birthday_attack_probability_apx1(n, d):\n",
    "    return 1 - math.exp(-1 * ((n * (n-1))/(2 * d)))\n",
    "\n",
    "def birthday_attack_probability_apx2(n, d):\n",
    "    return 1 - math.exp((-1 * n**2)/(2 * d))\n"
   ]
  },
  {
   "cell_type": "markdown",
   "id": "02190998",
   "metadata": {},
   "source": [
    "Just to test this code out, let's use the standard birthday probabilities:"
   ]
  },
  {
   "cell_type": "code",
   "execution_count": 2,
   "id": "d90d58ed",
   "metadata": {},
   "outputs": [
    {
     "name": "stdout",
     "output_type": "stream",
     "text": [
      "0.5000017521827107\n",
      "0.5155095380615168\n"
     ]
    }
   ],
   "source": [
    "d = 365\n",
    "n = 23\n",
    "\n",
    "print(birthday_attack_probability_apx1(n, d))\n",
    "print(birthday_attack_probability_apx2(n, d))"
   ]
  },
  {
   "cell_type": "markdown",
   "id": "99dce92c",
   "metadata": {},
   "source": [
    "So the two values differ a little bit from the more correct value of about 0.507 for 23 people in 365 using a permutations perspective, but will be good enough for large numbers, where trying to do something silly, like a value of $\\large1 - \\frac{_{d}P_{n}}{d^n}$ with $d = 2^{64} \\approx 1.8 \\times 10^{19}$ and say $n = 5.1 \\times 10 ^ 9$, where the stupidly large exponents would just make the code go whack.  Just for my sake, let's see the code."
   ]
  },
  {
   "cell_type": "code",
   "execution_count": 3,
   "id": "f74cebb8",
   "metadata": {},
   "outputs": [],
   "source": [
    "import math  # already done above, but doing it here for this block to work standalone.\n",
    "import time\n",
    "\n",
    "def birthday_attack_probability(n, d):\n",
    "    start_time = time.time()\n",
    "    ret_val = math.perm(d, n) / (d**n)\n",
    "    end_time = time.time()\n",
    "    execution_time = (end_time - start_time) * 1000.0\n",
    "    print(f'Execution time: {execution_time:.6f} ms.')\n",
    "    return 1 - ret_val"
   ]
  },
  {
   "cell_type": "markdown",
   "id": "e8096a78",
   "metadata": {},
   "source": [
    "And here's the execution for the birthday probabilities."
   ]
  },
  {
   "cell_type": "code",
   "execution_count": 4,
   "id": "4bec2e27",
   "metadata": {},
   "outputs": [
    {
     "name": "stdout",
     "output_type": "stream",
     "text": [
      "Execution time: 0.026941 ms.\n"
     ]
    },
    {
     "data": {
      "text/plain": [
       "0.5072972343239854"
      ]
     },
     "execution_count": 4,
     "metadata": {},
     "output_type": "execute_result"
    }
   ],
   "source": [
    "d = 365\n",
    "n = 23\n",
    "\n",
    "birthday_attack_probability(n, d)"
   ]
  },
  {
   "cell_type": "markdown",
   "id": "25db862b",
   "metadata": {},
   "source": [
    "It's fast for small numbers and obviously calculates more correctly, but let's bump up each of these."
   ]
  },
  {
   "cell_type": "code",
   "execution_count": 5,
   "id": "284e9312",
   "metadata": {},
   "outputs": [
    {
     "name": "stdout",
     "output_type": "stream",
     "text": [
      "Execution time: 3063.699007 ms.\n"
     ]
    },
    {
     "data": {
      "text/plain": [
       "0.25250944791713614"
      ]
     },
     "execution_count": 5,
     "metadata": {},
     "output_type": "execute_result"
    }
   ],
   "source": [
    "# 5.0 * 10^4 in 2^32 is ~25% from the wiki articles\n",
    "\n",
    "d = 2**32\n",
    "n = 50000\n",
    "\n",
    "birthday_attack_probability(n, d)\n"
   ]
  },
  {
   "cell_type": "markdown",
   "id": "811e76e5",
   "metadata": {},
   "source": [
    "That's... significantly slower. Take my word that trying to do this with the 50% interval of 64 bits, so `d = 2**64` and `d = 5.06 * 10**9` is going to take... way too long."
   ]
  },
  {
   "cell_type": "code",
   "execution_count": 6,
   "id": "96cab11f",
   "metadata": {},
   "outputs": [
    {
     "data": {
      "text/plain": [
       "0.5004197176829943"
      ]
     },
     "execution_count": 6,
     "metadata": {},
     "output_type": "execute_result"
    }
   ],
   "source": [
    "d = 2**64\n",
    "n = int(5.06 * 10**9)\n",
    "\n",
    "# Don't waste your time running this.\n",
    "# birthday_attack_probability(n, d)\n",
    "\n",
    "# For the approximation:\n",
    "birthday_attack_probability_apx1(n, d)"
   ]
  },
  {
   "cell_type": "markdown",
   "id": "f1d70617",
   "metadata": {},
   "source": [
    "So, for this exercise, we'll just do the approximations. Specifically, I'll use `birthday_attack_probability_apx1(n, d) going forward`.\n",
    "\n",
    "For the reverse, the minimum number of items ($n$) needed to have a certain probability ($p$) of finding a collision in space ($H$, the equivalent of $d$ from above) is [from the derived equation](https://en.wikipedia.org/wiki/Birthday_attack#Mathematics):\n",
    "\n",
    "$ \\large n(p; H) \\approx \\sqrt{ 2H \\ln \\frac{1}{1 - p} } $\n",
    "\n",
    "and is implemented by the following code:"
   ]
  },
  {
   "cell_type": "code",
   "execution_count": 7,
   "id": "2bd0c595",
   "metadata": {},
   "outputs": [],
   "source": [
    "def birthday_attack_num_required_apx(p, h):\n",
    "    # we use math.ceil because the square root part will return a float.\n",
    "    # logically, however, we're looking for countable numbers, so we need\n",
    "    # the next highest whole number.\n",
    "    return math.ceil(math.sqrt(2 * h * math.log(1 / (1 - p))))"
   ]
  },
  {
   "cell_type": "markdown",
   "id": "c637d637",
   "metadata": {},
   "source": [
    "For example, for the birthday probability of 50%"
   ]
  },
  {
   "cell_type": "code",
   "execution_count": 8,
   "id": "0181011b",
   "metadata": {},
   "outputs": [
    {
     "data": {
      "text/plain": [
       "23"
      ]
     },
     "execution_count": 8,
     "metadata": {},
     "output_type": "execute_result"
    }
   ],
   "source": [
    "p = 0.5\n",
    "h = 365\n",
    "\n",
    "birthday_attack_num_required_apx(p, h)"
   ]
  },
  {
   "cell_type": "markdown",
   "id": "c801bdd3",
   "metadata": {},
   "source": [
    "And for our far larger spaces:"
   ]
  },
  {
   "cell_type": "code",
   "execution_count": 9,
   "id": "2b2a2d22",
   "metadata": {},
   "outputs": [
    {
     "data": {
      "text/plain": [
       "49711"
      ]
     },
     "execution_count": 9,
     "metadata": {},
     "output_type": "execute_result"
    }
   ],
   "source": [
    "p = 0.25\n",
    "h = 2**32\n",
    "birthday_attack_num_required_apx(p, h)"
   ]
  },
  {
   "cell_type": "code",
   "execution_count": 10,
   "id": "54551c41",
   "metadata": {},
   "outputs": [
    {
     "data": {
      "text/plain": [
       "5056937541"
      ]
     },
     "execution_count": 10,
     "metadata": {},
     "output_type": "execute_result"
    }
   ],
   "source": [
    "p = 0.5\n",
    "h = 2**64\n",
    "birthday_attack_num_required_apx(p, h)"
   ]
  },
  {
   "cell_type": "markdown",
   "id": "da5098b2",
   "metadata": {},
   "source": [
    "Finally, we can generate that really nice birthday attack table that exists in the wikipedia articles, using some code, plus add some extra values on the ends for some more fun.\n",
    "\n",
    "(Note: the ~8.512 bit value is $log_{2}(365)$, i.e., the normal birthday attack.)"
   ]
  },
  {
   "cell_type": "code",
   "execution_count": 11,
   "id": "1c65ac27",
   "metadata": {},
   "outputs": [
    {
     "data": {
      "text/html": [
       "<div>\n",
       "<style scoped>\n",
       "    .dataframe tbody tr th:only-of-type {\n",
       "        vertical-align: middle;\n",
       "    }\n",
       "\n",
       "    .dataframe tbody tr th {\n",
       "        vertical-align: top;\n",
       "    }\n",
       "\n",
       "    .dataframe thead th {\n",
       "        text-align: right;\n",
       "    }\n",
       "</style>\n",
       "<table border=\"1\" class=\"dataframe\">\n",
       "  <thead>\n",
       "    <tr style=\"text-align: right;\">\n",
       "      <th></th>\n",
       "      <th>1.0e-18</th>\n",
       "      <th>1.0e-15</th>\n",
       "      <th>1.0e-12</th>\n",
       "      <th>1.0e-09</th>\n",
       "      <th>1.0e-06</th>\n",
       "      <th>0.001</th>\n",
       "      <th>0.01</th>\n",
       "      <th>0.25</th>\n",
       "      <th>0.5</th>\n",
       "      <th>0.75</th>\n",
       "      <th>0.9</th>\n",
       "      <th>0.99</th>\n",
       "      <th>0.999</th>\n",
       "      <th>0.9999</th>\n",
       "    </tr>\n",
       "  </thead>\n",
       "  <tbody>\n",
       "    <tr>\n",
       "      <th>8.51175265376738</th>\n",
       "      <td>1</td>\n",
       "      <td>1</td>\n",
       "      <td>1</td>\n",
       "      <td>1</td>\n",
       "      <td>1</td>\n",
       "      <td>1</td>\n",
       "      <td>3</td>\n",
       "      <td>15</td>\n",
       "      <td>23</td>\n",
       "      <td>32</td>\n",
       "      <td>41</td>\n",
       "      <td>58</td>\n",
       "      <td>72</td>\n",
       "      <td>82</td>\n",
       "    </tr>\n",
       "    <tr>\n",
       "      <th>32</th>\n",
       "      <td>1</td>\n",
       "      <td>1</td>\n",
       "      <td>1</td>\n",
       "      <td>3</td>\n",
       "      <td>93</td>\n",
       "      <td>2.9e+03</td>\n",
       "      <td>9.3e+03</td>\n",
       "      <td>5.0e+04</td>\n",
       "      <td>7.7e+04</td>\n",
       "      <td>1.1e+05</td>\n",
       "      <td>1.4e+05</td>\n",
       "      <td>2.0e+05</td>\n",
       "      <td>2.4e+05</td>\n",
       "      <td>2.8e+05</td>\n",
       "    </tr>\n",
       "    <tr>\n",
       "      <th>40</th>\n",
       "      <td>1</td>\n",
       "      <td>1</td>\n",
       "      <td>2</td>\n",
       "      <td>47</td>\n",
       "      <td>1.5e+03</td>\n",
       "      <td>4.7e+04</td>\n",
       "      <td>1.5e+05</td>\n",
       "      <td>8.0e+05</td>\n",
       "      <td>1.2e+06</td>\n",
       "      <td>1.7e+06</td>\n",
       "      <td>2.3e+06</td>\n",
       "      <td>3.2e+06</td>\n",
       "      <td>3.9e+06</td>\n",
       "      <td>4.5e+06</td>\n",
       "    </tr>\n",
       "    <tr>\n",
       "      <th>48</th>\n",
       "      <td>1</td>\n",
       "      <td>1</td>\n",
       "      <td>24</td>\n",
       "      <td>751</td>\n",
       "      <td>2.4e+04</td>\n",
       "      <td>7.5e+05</td>\n",
       "      <td>2.4e+06</td>\n",
       "      <td>1.3e+07</td>\n",
       "      <td>2.0e+07</td>\n",
       "      <td>2.8e+07</td>\n",
       "      <td>3.6e+07</td>\n",
       "      <td>5.1e+07</td>\n",
       "      <td>6.2e+07</td>\n",
       "      <td>7.2e+07</td>\n",
       "    </tr>\n",
       "    <tr>\n",
       "      <th>64</th>\n",
       "      <td>6</td>\n",
       "      <td>193</td>\n",
       "      <td>6.1e+03</td>\n",
       "      <td>1.9e+05</td>\n",
       "      <td>6.1e+06</td>\n",
       "      <td>1.9e+08</td>\n",
       "      <td>6.1e+08</td>\n",
       "      <td>3.3e+09</td>\n",
       "      <td>5.1e+09</td>\n",
       "      <td>7.2e+09</td>\n",
       "      <td>9.2e+09</td>\n",
       "      <td>1.3e+10</td>\n",
       "      <td>1.6e+10</td>\n",
       "      <td>1.8e+10</td>\n",
       "    </tr>\n",
       "    <tr>\n",
       "      <th>96</th>\n",
       "      <td>3.9e+05</td>\n",
       "      <td>1.3e+07</td>\n",
       "      <td>4.0e+08</td>\n",
       "      <td>1.3e+10</td>\n",
       "      <td>4.0e+11</td>\n",
       "      <td>1.3e+13</td>\n",
       "      <td>4.0e+13</td>\n",
       "      <td>2.1e+14</td>\n",
       "      <td>3.3e+14</td>\n",
       "      <td>4.7e+14</td>\n",
       "      <td>6.0e+14</td>\n",
       "      <td>8.5e+14</td>\n",
       "      <td>1.0e+15</td>\n",
       "      <td>1.2e+15</td>\n",
       "    </tr>\n",
       "    <tr>\n",
       "      <th>128</th>\n",
       "      <td>2.6e+10</td>\n",
       "      <td>8.2e+11</td>\n",
       "      <td>2.6e+13</td>\n",
       "      <td>8.2e+14</td>\n",
       "      <td>2.6e+16</td>\n",
       "      <td>8.3e+17</td>\n",
       "      <td>2.6e+18</td>\n",
       "      <td>1.4e+19</td>\n",
       "      <td>2.2e+19</td>\n",
       "      <td>3.1e+19</td>\n",
       "      <td>4.0e+19</td>\n",
       "      <td>5.6e+19</td>\n",
       "      <td>6.9e+19</td>\n",
       "      <td>7.9e+19</td>\n",
       "    </tr>\n",
       "    <tr>\n",
       "      <th>192</th>\n",
       "      <td>1.1e+20</td>\n",
       "      <td>3.5e+21</td>\n",
       "      <td>1.1e+23</td>\n",
       "      <td>3.5e+24</td>\n",
       "      <td>1.1e+26</td>\n",
       "      <td>3.5e+27</td>\n",
       "      <td>1.1e+28</td>\n",
       "      <td>6.0e+28</td>\n",
       "      <td>9.3e+28</td>\n",
       "      <td>1.3e+29</td>\n",
       "      <td>1.7e+29</td>\n",
       "      <td>2.4e+29</td>\n",
       "      <td>2.9e+29</td>\n",
       "      <td>3.4e+29</td>\n",
       "    </tr>\n",
       "    <tr>\n",
       "      <th>256</th>\n",
       "      <td>4.8e+29</td>\n",
       "      <td>1.5e+31</td>\n",
       "      <td>4.8e+32</td>\n",
       "      <td>1.5e+34</td>\n",
       "      <td>4.8e+35</td>\n",
       "      <td>1.5e+37</td>\n",
       "      <td>4.8e+37</td>\n",
       "      <td>2.6e+38</td>\n",
       "      <td>4.0e+38</td>\n",
       "      <td>5.7e+38</td>\n",
       "      <td>7.3e+38</td>\n",
       "      <td>1.0e+39</td>\n",
       "      <td>1.3e+39</td>\n",
       "      <td>1.5e+39</td>\n",
       "    </tr>\n",
       "    <tr>\n",
       "      <th>384</th>\n",
       "      <td>8.8e+48</td>\n",
       "      <td>2.8e+50</td>\n",
       "      <td>8.9e+51</td>\n",
       "      <td>2.8e+53</td>\n",
       "      <td>8.9e+54</td>\n",
       "      <td>2.8e+56</td>\n",
       "      <td>8.9e+56</td>\n",
       "      <td>4.8e+57</td>\n",
       "      <td>7.4e+57</td>\n",
       "      <td>1.0e+58</td>\n",
       "      <td>1.3e+58</td>\n",
       "      <td>1.9e+58</td>\n",
       "      <td>2.3e+58</td>\n",
       "      <td>2.7e+58</td>\n",
       "    </tr>\n",
       "    <tr>\n",
       "      <th>512</th>\n",
       "      <td>1.6e+68</td>\n",
       "      <td>5.2e+69</td>\n",
       "      <td>1.6e+71</td>\n",
       "      <td>5.2e+72</td>\n",
       "      <td>1.6e+74</td>\n",
       "      <td>5.2e+75</td>\n",
       "      <td>1.6e+76</td>\n",
       "      <td>8.8e+76</td>\n",
       "      <td>1.4e+77</td>\n",
       "      <td>1.9e+77</td>\n",
       "      <td>2.5e+77</td>\n",
       "      <td>3.5e+77</td>\n",
       "      <td>4.3e+77</td>\n",
       "      <td>5.0e+77</td>\n",
       "    </tr>\n",
       "  </tbody>\n",
       "</table>\n",
       "</div>"
      ],
      "text/plain": [
       "                  1.0e-18  1.0e-15  1.0e-12  1.0e-09  1.0e-06    0.001  \\\n",
       "8.51175265376738        1        1        1        1        1        1   \n",
       "32                      1        1        1        3       93  2.9e+03   \n",
       "40                      1        1        2       47  1.5e+03  4.7e+04   \n",
       "48                      1        1       24      751  2.4e+04  7.5e+05   \n",
       "64                      6      193  6.1e+03  1.9e+05  6.1e+06  1.9e+08   \n",
       "96                3.9e+05  1.3e+07  4.0e+08  1.3e+10  4.0e+11  1.3e+13   \n",
       "128               2.6e+10  8.2e+11  2.6e+13  8.2e+14  2.6e+16  8.3e+17   \n",
       "192               1.1e+20  3.5e+21  1.1e+23  3.5e+24  1.1e+26  3.5e+27   \n",
       "256               4.8e+29  1.5e+31  4.8e+32  1.5e+34  4.8e+35  1.5e+37   \n",
       "384               8.8e+48  2.8e+50  8.9e+51  2.8e+53  8.9e+54  2.8e+56   \n",
       "512               1.6e+68  5.2e+69  1.6e+71  5.2e+72  1.6e+74  5.2e+75   \n",
       "\n",
       "                     0.01     0.25      0.5     0.75      0.9     0.99  \\\n",
       "8.51175265376738        3       15       23       32       41       58   \n",
       "32                9.3e+03  5.0e+04  7.7e+04  1.1e+05  1.4e+05  2.0e+05   \n",
       "40                1.5e+05  8.0e+05  1.2e+06  1.7e+06  2.3e+06  3.2e+06   \n",
       "48                2.4e+06  1.3e+07  2.0e+07  2.8e+07  3.6e+07  5.1e+07   \n",
       "64                6.1e+08  3.3e+09  5.1e+09  7.2e+09  9.2e+09  1.3e+10   \n",
       "96                4.0e+13  2.1e+14  3.3e+14  4.7e+14  6.0e+14  8.5e+14   \n",
       "128               2.6e+18  1.4e+19  2.2e+19  3.1e+19  4.0e+19  5.6e+19   \n",
       "192               1.1e+28  6.0e+28  9.3e+28  1.3e+29  1.7e+29  2.4e+29   \n",
       "256               4.8e+37  2.6e+38  4.0e+38  5.7e+38  7.3e+38  1.0e+39   \n",
       "384               8.9e+56  4.8e+57  7.4e+57  1.0e+58  1.3e+58  1.9e+58   \n",
       "512               1.6e+76  8.8e+76  1.4e+77  1.9e+77  2.5e+77  3.5e+77   \n",
       "\n",
       "                    0.999   0.9999  \n",
       "8.51175265376738       72       82  \n",
       "32                2.4e+05  2.8e+05  \n",
       "40                3.9e+06  4.5e+06  \n",
       "48                6.2e+07  7.2e+07  \n",
       "64                1.6e+10  1.8e+10  \n",
       "96                1.0e+15  1.2e+15  \n",
       "128               6.9e+19  7.9e+19  \n",
       "192               2.9e+29  3.4e+29  \n",
       "256               1.3e+39  1.5e+39  \n",
       "384               2.3e+58  2.7e+58  \n",
       "512               4.3e+77  5.0e+77  "
      ]
     },
     "execution_count": 11,
     "metadata": {},
     "output_type": "execute_result"
    }
   ],
   "source": [
    "import pandas as pd\n",
    "import numpy as np\n",
    "\n",
    "# Converting this to be numpy compatible\n",
    "def birthday_attack_num_required_apx(p, h):\n",
    "    # we use math.ceil because the square root part will return a float.\n",
    "    # logically, however, we're looking for countable numbers, so we need\n",
    "    # the next highest whole number.\n",
    "    return int(np.ceil(np.sqrt(2 * np.float128(h) * np.log(1 / (1 - p)))))\n",
    "\n",
    "def sci_not(n):\n",
    "    \"\"\" Generate scientific notation values for display. \"\"\"\n",
    "    if n < 0.001 or n >= 1000:\n",
    "        return f'{n:.1e}'\n",
    "    return str(n)\n",
    "\n",
    "# Inputs as constants.\n",
    "BIT_VALUES = [np.log2(365), 32, 40, 48, 64, 96, 128, 192, 256, 384, 512]\n",
    "PROBABILITIES = [10**-18, 10**-15, 10**-12, 10**-9, 10**-6, 0.001, 0.01, 0.25, 0.50, 0.75, 0.9, 0.99, 0.999, 0.9999]\n",
    "\n",
    "# Converting them to pandas series so we can multiplex them together.\n",
    "BIT_VALUES_NP = pd.Series(\n",
    "    [2 ** bits for bits in BIT_VALUES],\n",
    "    [str(i) for i in BIT_VALUES]\n",
    ")\n",
    "PROBABILITIES_NP = pd.Series(\n",
    "    [np.longdouble(p) for p in PROBABILITIES],\n",
    "    [sci_not(p) for p in PROBABILITIES]\n",
    ")\n",
    "\n",
    "# calculate the data for the dataframe\n",
    "num_required_data = {\n",
    "    p_idx: [\n",
    "        sci_not(birthday_attack_num_required_apx(p, h))\n",
    "        for bv_idx, h in BIT_VALUES_NP.items()]\n",
    "    for p_idx, p in PROBABILITIES_NP.items()\n",
    "}\n",
    "\n",
    "num_required = pd.DataFrame(\n",
    "    num_required_data,\n",
    "    index=BIT_VALUES_NP.index,\n",
    "    columns=PROBABILITIES_NP.index\n",
    ")\n",
    "\n",
    "num_required\n"
   ]
  },
  {
   "cell_type": "markdown",
   "id": "9e27a371",
   "metadata": {},
   "source": [
    "---\n",
    "\n",
    "## The Graphs\n",
    "\n",
    "(To be continued...)"
   ]
  }
 ],
 "metadata": {
  "kernelspec": {
   "display_name": "Python 3 (ipykernel)",
   "language": "python",
   "name": "python3"
  },
  "language_info": {
   "codemirror_mode": {
    "name": "ipython",
    "version": 3
   },
   "file_extension": ".py",
   "mimetype": "text/x-python",
   "name": "python",
   "nbconvert_exporter": "python",
   "pygments_lexer": "ipython3",
   "version": "3.9.7"
  }
 },
 "nbformat": 4,
 "nbformat_minor": 5
}
